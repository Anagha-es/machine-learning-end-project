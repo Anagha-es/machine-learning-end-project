{
 "cells": [
  {
   "cell_type": "markdown",
   "id": "2a4988d1-c732-4d38-980e-730c8dc05ecf",
   "metadata": {},
   "source": [
    "# 🚗 Car Price Prediction in the US Market using Machine Learning\n",
    "\n",
    "### 📝 Problem Statement:\n",
    "A Chinese automobile company is planning to enter the US market by manufacturing cars locally. To strategize pricing, they’ve partnered with a consulting firm to analyze how car prices vary based on different features.\n",
    "\n",
    "The goal is to:\n",
    "- Understand key factors that influence car pricing\n",
    "- Build a predictive model to estimate car prices\n",
    "- Use insights to support pricing and design decisions\n",
    "\n",
    "---\n",
    "\n",
    "### 🎯 Business Objective:\n",
    "Help the company understand pricing dynamics of the US market and make informed business decisions. The final model can be used to estimate car prices and identify critical features that affect cost.\n",
    "\n",
    "---\n",
    "\n",
    "### 📂 Dataset:\n",
    "The dataset contains specifications and prices of various cars in the US market, collected via multiple market surveys.\n",
    "\n",
    "🔗 [Dataset Link](https://drive.google.com/file/d/1FHmYNLs9v0Enc-UExEMpitOFGsWvB2dP/view?usp=drive_link)\n",
    "\n",
    "---\n",
    "\n",
    "### ✅ Tasks Completed:\n",
    "1. Data Loading & Preprocessing  \n",
    "2. Implemented 5 Regression Models  \n",
    "3. Model Evaluation using R², MSE, MAE  \n",
    "4. Feature Importance Analysis  \n",
    "5. Hyperparameter Tuning  \n",
    "6. Final Model Evaluation\n",
    "\n",
    "---\n"
   ]
  },
  {
   "cell_type": "markdown",
   "id": "2a229394-c993-44fe-bc3e-55794d1f47c2",
   "metadata": {},
   "source": [
    "### Import Libraries"
   ]
  },
  {
   "cell_type": "code",
   "execution_count": 1,
   "id": "9f8035b2-5b28-4c6b-afdd-dd649565c73e",
   "metadata": {},
   "outputs": [],
   "source": [
    "import pandas as pd\n",
    "import numpy as np\n",
    "import matplotlib.pyplot as plt\n",
    "import seaborn as sns\n",
    "\n",
    "from sklearn.model_selection import train_test_split, GridSearchCV\n",
    "from sklearn.linear_model import LinearRegression\n",
    "from sklearn.tree import DecisionTreeRegressor\n",
    "from sklearn.ensemble import RandomForestRegressor, GradientBoostingRegressor\n",
    "from sklearn.svm import SVR\n",
    "\n",
    "from sklearn.preprocessing import StandardScaler\n",
    "from sklearn.metrics import r2_score, mean_squared_error, mean_absolute_error\n"
   ]
  },
  {
   "cell_type": "markdown",
   "id": "aca243f6-34e1-4d69-a137-f511470cf129",
   "metadata": {},
   "source": [
    "### Load the Dataset"
   ]
  },
  {
   "cell_type": "code",
   "execution_count": 2,
   "id": "b242c3ce-e750-4cfa-ad57-2a8d13262817",
   "metadata": {},
   "outputs": [
    {
     "name": "stdout",
     "output_type": "stream",
     "text": [
      "Requirement already satisfied: gdown in c:\\users\\anagh\\appdata\\local\\programs\\python\\python313\\lib\\site-packages (5.2.0)\n",
      "Requirement already satisfied: beautifulsoup4 in c:\\users\\anagh\\appdata\\local\\programs\\python\\python313\\lib\\site-packages (from gdown) (4.13.3)\n",
      "Requirement already satisfied: filelock in c:\\users\\anagh\\appdata\\local\\programs\\python\\python313\\lib\\site-packages (from gdown) (3.18.0)\n",
      "Requirement already satisfied: requests[socks] in c:\\users\\anagh\\appdata\\local\\programs\\python\\python313\\lib\\site-packages (from gdown) (2.32.3)\n",
      "Requirement already satisfied: tqdm in c:\\users\\anagh\\appdata\\local\\programs\\python\\python313\\lib\\site-packages (from gdown) (4.67.1)\n",
      "Requirement already satisfied: soupsieve>1.2 in c:\\users\\anagh\\appdata\\local\\programs\\python\\python313\\lib\\site-packages (from beautifulsoup4->gdown) (2.6)\n",
      "Requirement already satisfied: typing-extensions>=4.0.0 in c:\\users\\anagh\\appdata\\local\\programs\\python\\python313\\lib\\site-packages (from beautifulsoup4->gdown) (4.12.2)\n",
      "Requirement already satisfied: charset-normalizer<4,>=2 in c:\\users\\anagh\\appdata\\local\\programs\\python\\python313\\lib\\site-packages (from requests[socks]->gdown) (3.4.1)\n",
      "Requirement already satisfied: idna<4,>=2.5 in c:\\users\\anagh\\appdata\\local\\programs\\python\\python313\\lib\\site-packages (from requests[socks]->gdown) (3.10)\n",
      "Requirement already satisfied: urllib3<3,>=1.21.1 in c:\\users\\anagh\\appdata\\local\\programs\\python\\python313\\lib\\site-packages (from requests[socks]->gdown) (2.3.0)\n",
      "Requirement already satisfied: certifi>=2017.4.17 in c:\\users\\anagh\\appdata\\local\\programs\\python\\python313\\lib\\site-packages (from requests[socks]->gdown) (2025.1.31)\n",
      "Requirement already satisfied: PySocks!=1.5.7,>=1.5.6 in c:\\users\\anagh\\appdata\\local\\programs\\python\\python313\\lib\\site-packages (from requests[socks]->gdown) (1.7.1)\n",
      "Requirement already satisfied: colorama in c:\\users\\anagh\\appdata\\local\\programs\\python\\python313\\lib\\site-packages (from tqdm->gdown) (0.4.6)\n"
     ]
    },
    {
     "name": "stderr",
     "output_type": "stream",
     "text": [
      "\n",
      "[notice] A new release of pip is available: 24.3.1 -> 25.0.1\n",
      "[notice] To update, run: python.exe -m pip install --upgrade pip\n",
      "Downloading...\n",
      "From: https://drive.google.com/uc?id=1FHmYNLs9v0Enc-UExEMpitOFGsWvB2dP\n",
      "To: C:\\Users\\anagh\\car_data.csv\n",
      "100%|██████████████████████████████████████████████████████████████████████████████| 26.7k/26.7k [00:00<00:00, 996kB/s]\n"
     ]
    },
    {
     "data": {
      "text/plain": [
       "'car_data.csv'"
      ]
     },
     "execution_count": 2,
     "metadata": {},
     "output_type": "execute_result"
    }
   ],
   "source": [
    "!pip install gdown\n",
    "import gdown\n",
    "url = 'https://drive.google.com/uc?id=1FHmYNLs9v0Enc-UExEMpitOFGsWvB2dP'\n",
    "gdown.download(url, 'car_data.csv', quiet=False)\n"
   ]
  },
  {
   "cell_type": "code",
   "execution_count": 3,
   "id": "bada49cc-61f0-477c-9d5c-d6a6f3fd2f97",
   "metadata": {},
   "outputs": [
    {
     "data": {
      "text/html": [
       "<div>\n",
       "<style scoped>\n",
       "    .dataframe tbody tr th:only-of-type {\n",
       "        vertical-align: middle;\n",
       "    }\n",
       "\n",
       "    .dataframe tbody tr th {\n",
       "        vertical-align: top;\n",
       "    }\n",
       "\n",
       "    .dataframe thead th {\n",
       "        text-align: right;\n",
       "    }\n",
       "</style>\n",
       "<table border=\"1\" class=\"dataframe\">\n",
       "  <thead>\n",
       "    <tr style=\"text-align: right;\">\n",
       "      <th></th>\n",
       "      <th>car_ID</th>\n",
       "      <th>symboling</th>\n",
       "      <th>CarName</th>\n",
       "      <th>fueltype</th>\n",
       "      <th>aspiration</th>\n",
       "      <th>doornumber</th>\n",
       "      <th>carbody</th>\n",
       "      <th>drivewheel</th>\n",
       "      <th>enginelocation</th>\n",
       "      <th>wheelbase</th>\n",
       "      <th>...</th>\n",
       "      <th>enginesize</th>\n",
       "      <th>fuelsystem</th>\n",
       "      <th>boreratio</th>\n",
       "      <th>stroke</th>\n",
       "      <th>compressionratio</th>\n",
       "      <th>horsepower</th>\n",
       "      <th>peakrpm</th>\n",
       "      <th>citympg</th>\n",
       "      <th>highwaympg</th>\n",
       "      <th>price</th>\n",
       "    </tr>\n",
       "  </thead>\n",
       "  <tbody>\n",
       "    <tr>\n",
       "      <th>0</th>\n",
       "      <td>1</td>\n",
       "      <td>3</td>\n",
       "      <td>alfa-romero giulia</td>\n",
       "      <td>gas</td>\n",
       "      <td>std</td>\n",
       "      <td>two</td>\n",
       "      <td>convertible</td>\n",
       "      <td>rwd</td>\n",
       "      <td>front</td>\n",
       "      <td>88.6</td>\n",
       "      <td>...</td>\n",
       "      <td>130</td>\n",
       "      <td>mpfi</td>\n",
       "      <td>3.47</td>\n",
       "      <td>2.68</td>\n",
       "      <td>9.0</td>\n",
       "      <td>111</td>\n",
       "      <td>5000</td>\n",
       "      <td>21</td>\n",
       "      <td>27</td>\n",
       "      <td>13495.0</td>\n",
       "    </tr>\n",
       "    <tr>\n",
       "      <th>1</th>\n",
       "      <td>2</td>\n",
       "      <td>3</td>\n",
       "      <td>alfa-romero stelvio</td>\n",
       "      <td>gas</td>\n",
       "      <td>std</td>\n",
       "      <td>two</td>\n",
       "      <td>convertible</td>\n",
       "      <td>rwd</td>\n",
       "      <td>front</td>\n",
       "      <td>88.6</td>\n",
       "      <td>...</td>\n",
       "      <td>130</td>\n",
       "      <td>mpfi</td>\n",
       "      <td>3.47</td>\n",
       "      <td>2.68</td>\n",
       "      <td>9.0</td>\n",
       "      <td>111</td>\n",
       "      <td>5000</td>\n",
       "      <td>21</td>\n",
       "      <td>27</td>\n",
       "      <td>16500.0</td>\n",
       "    </tr>\n",
       "    <tr>\n",
       "      <th>2</th>\n",
       "      <td>3</td>\n",
       "      <td>1</td>\n",
       "      <td>alfa-romero Quadrifoglio</td>\n",
       "      <td>gas</td>\n",
       "      <td>std</td>\n",
       "      <td>two</td>\n",
       "      <td>hatchback</td>\n",
       "      <td>rwd</td>\n",
       "      <td>front</td>\n",
       "      <td>94.5</td>\n",
       "      <td>...</td>\n",
       "      <td>152</td>\n",
       "      <td>mpfi</td>\n",
       "      <td>2.68</td>\n",
       "      <td>3.47</td>\n",
       "      <td>9.0</td>\n",
       "      <td>154</td>\n",
       "      <td>5000</td>\n",
       "      <td>19</td>\n",
       "      <td>26</td>\n",
       "      <td>16500.0</td>\n",
       "    </tr>\n",
       "    <tr>\n",
       "      <th>3</th>\n",
       "      <td>4</td>\n",
       "      <td>2</td>\n",
       "      <td>audi 100 ls</td>\n",
       "      <td>gas</td>\n",
       "      <td>std</td>\n",
       "      <td>four</td>\n",
       "      <td>sedan</td>\n",
       "      <td>fwd</td>\n",
       "      <td>front</td>\n",
       "      <td>99.8</td>\n",
       "      <td>...</td>\n",
       "      <td>109</td>\n",
       "      <td>mpfi</td>\n",
       "      <td>3.19</td>\n",
       "      <td>3.40</td>\n",
       "      <td>10.0</td>\n",
       "      <td>102</td>\n",
       "      <td>5500</td>\n",
       "      <td>24</td>\n",
       "      <td>30</td>\n",
       "      <td>13950.0</td>\n",
       "    </tr>\n",
       "    <tr>\n",
       "      <th>4</th>\n",
       "      <td>5</td>\n",
       "      <td>2</td>\n",
       "      <td>audi 100ls</td>\n",
       "      <td>gas</td>\n",
       "      <td>std</td>\n",
       "      <td>four</td>\n",
       "      <td>sedan</td>\n",
       "      <td>4wd</td>\n",
       "      <td>front</td>\n",
       "      <td>99.4</td>\n",
       "      <td>...</td>\n",
       "      <td>136</td>\n",
       "      <td>mpfi</td>\n",
       "      <td>3.19</td>\n",
       "      <td>3.40</td>\n",
       "      <td>8.0</td>\n",
       "      <td>115</td>\n",
       "      <td>5500</td>\n",
       "      <td>18</td>\n",
       "      <td>22</td>\n",
       "      <td>17450.0</td>\n",
       "    </tr>\n",
       "  </tbody>\n",
       "</table>\n",
       "<p>5 rows × 26 columns</p>\n",
       "</div>"
      ],
      "text/plain": [
       "   car_ID  symboling                   CarName fueltype aspiration doornumber  \\\n",
       "0       1          3        alfa-romero giulia      gas        std        two   \n",
       "1       2          3       alfa-romero stelvio      gas        std        two   \n",
       "2       3          1  alfa-romero Quadrifoglio      gas        std        two   \n",
       "3       4          2               audi 100 ls      gas        std       four   \n",
       "4       5          2                audi 100ls      gas        std       four   \n",
       "\n",
       "       carbody drivewheel enginelocation  wheelbase  ...  enginesize  \\\n",
       "0  convertible        rwd          front       88.6  ...         130   \n",
       "1  convertible        rwd          front       88.6  ...         130   \n",
       "2    hatchback        rwd          front       94.5  ...         152   \n",
       "3        sedan        fwd          front       99.8  ...         109   \n",
       "4        sedan        4wd          front       99.4  ...         136   \n",
       "\n",
       "   fuelsystem  boreratio  stroke compressionratio horsepower  peakrpm citympg  \\\n",
       "0        mpfi       3.47    2.68              9.0        111     5000      21   \n",
       "1        mpfi       3.47    2.68              9.0        111     5000      21   \n",
       "2        mpfi       2.68    3.47              9.0        154     5000      19   \n",
       "3        mpfi       3.19    3.40             10.0        102     5500      24   \n",
       "4        mpfi       3.19    3.40              8.0        115     5500      18   \n",
       "\n",
       "   highwaympg    price  \n",
       "0          27  13495.0  \n",
       "1          27  16500.0  \n",
       "2          26  16500.0  \n",
       "3          30  13950.0  \n",
       "4          22  17450.0  \n",
       "\n",
       "[5 rows x 26 columns]"
      ]
     },
     "execution_count": 3,
     "metadata": {},
     "output_type": "execute_result"
    }
   ],
   "source": [
    "df = pd.read_csv('car_data.csv')  # adjust file name if it's different\n",
    "df.head()\n"
   ]
  },
  {
   "cell_type": "markdown",
   "id": "c4f951e7-bd7a-4d22-8422-da83c2591198",
   "metadata": {},
   "source": [
    "# Preprocessing\n",
    "#### Check nulls\n",
    "\n",
    "#### Handle categorical features\n",
    "\n",
    "#### Outlier detection (IQR)\n",
    "\n",
    "#### Feature scaling"
   ]
  },
  {
   "cell_type": "markdown",
   "id": "da791f7e-8d5d-4d66-905e-9073895d894d",
   "metadata": {},
   "source": [
    "### Check for Null Values"
   ]
  },
  {
   "cell_type": "code",
   "execution_count": 4,
   "id": "becfb8f4-ff4d-4496-857b-c410fbe52212",
   "metadata": {},
   "outputs": [
    {
     "data": {
      "text/plain": [
       "car_ID              0\n",
       "symboling           0\n",
       "CarName             0\n",
       "fueltype            0\n",
       "aspiration          0\n",
       "doornumber          0\n",
       "carbody             0\n",
       "drivewheel          0\n",
       "enginelocation      0\n",
       "wheelbase           0\n",
       "carlength           0\n",
       "carwidth            0\n",
       "carheight           0\n",
       "curbweight          0\n",
       "enginetype          0\n",
       "cylindernumber      0\n",
       "enginesize          0\n",
       "fuelsystem          0\n",
       "boreratio           0\n",
       "stroke              0\n",
       "compressionratio    0\n",
       "horsepower          0\n",
       "peakrpm             0\n",
       "citympg             0\n",
       "highwaympg          0\n",
       "price               0\n",
       "dtype: int64"
      ]
     },
     "execution_count": 4,
     "metadata": {},
     "output_type": "execute_result"
    }
   ],
   "source": [
    "# Check null values\n",
    "df.isnull().sum()\n"
   ]
  },
  {
   "cell_type": "markdown",
   "id": "82792edb-4ce7-44e2-801b-0d47b521be98",
   "metadata": {},
   "source": [
    "## Handle Categorical Features"
   ]
  },
  {
   "cell_type": "code",
   "execution_count": 5,
   "id": "a07e9e7a-88b0-4990-a820-ec928b76b8b0",
   "metadata": {},
   "outputs": [
    {
     "data": {
      "text/html": [
       "<div>\n",
       "<style scoped>\n",
       "    .dataframe tbody tr th:only-of-type {\n",
       "        vertical-align: middle;\n",
       "    }\n",
       "\n",
       "    .dataframe tbody tr th {\n",
       "        vertical-align: top;\n",
       "    }\n",
       "\n",
       "    .dataframe thead th {\n",
       "        text-align: right;\n",
       "    }\n",
       "</style>\n",
       "<table border=\"1\" class=\"dataframe\">\n",
       "  <thead>\n",
       "    <tr style=\"text-align: right;\">\n",
       "      <th></th>\n",
       "      <th>car_ID</th>\n",
       "      <th>symboling</th>\n",
       "      <th>wheelbase</th>\n",
       "      <th>carlength</th>\n",
       "      <th>carwidth</th>\n",
       "      <th>carheight</th>\n",
       "      <th>curbweight</th>\n",
       "      <th>enginesize</th>\n",
       "      <th>boreratio</th>\n",
       "      <th>stroke</th>\n",
       "      <th>...</th>\n",
       "      <th>cylindernumber_three</th>\n",
       "      <th>cylindernumber_twelve</th>\n",
       "      <th>cylindernumber_two</th>\n",
       "      <th>fuelsystem_2bbl</th>\n",
       "      <th>fuelsystem_4bbl</th>\n",
       "      <th>fuelsystem_idi</th>\n",
       "      <th>fuelsystem_mfi</th>\n",
       "      <th>fuelsystem_mpfi</th>\n",
       "      <th>fuelsystem_spdi</th>\n",
       "      <th>fuelsystem_spfi</th>\n",
       "    </tr>\n",
       "  </thead>\n",
       "  <tbody>\n",
       "    <tr>\n",
       "      <th>0</th>\n",
       "      <td>1</td>\n",
       "      <td>3</td>\n",
       "      <td>88.6</td>\n",
       "      <td>168.8</td>\n",
       "      <td>64.1</td>\n",
       "      <td>48.8</td>\n",
       "      <td>2548</td>\n",
       "      <td>130</td>\n",
       "      <td>3.47</td>\n",
       "      <td>2.68</td>\n",
       "      <td>...</td>\n",
       "      <td>False</td>\n",
       "      <td>False</td>\n",
       "      <td>False</td>\n",
       "      <td>False</td>\n",
       "      <td>False</td>\n",
       "      <td>False</td>\n",
       "      <td>False</td>\n",
       "      <td>True</td>\n",
       "      <td>False</td>\n",
       "      <td>False</td>\n",
       "    </tr>\n",
       "    <tr>\n",
       "      <th>1</th>\n",
       "      <td>2</td>\n",
       "      <td>3</td>\n",
       "      <td>88.6</td>\n",
       "      <td>168.8</td>\n",
       "      <td>64.1</td>\n",
       "      <td>48.8</td>\n",
       "      <td>2548</td>\n",
       "      <td>130</td>\n",
       "      <td>3.47</td>\n",
       "      <td>2.68</td>\n",
       "      <td>...</td>\n",
       "      <td>False</td>\n",
       "      <td>False</td>\n",
       "      <td>False</td>\n",
       "      <td>False</td>\n",
       "      <td>False</td>\n",
       "      <td>False</td>\n",
       "      <td>False</td>\n",
       "      <td>True</td>\n",
       "      <td>False</td>\n",
       "      <td>False</td>\n",
       "    </tr>\n",
       "    <tr>\n",
       "      <th>2</th>\n",
       "      <td>3</td>\n",
       "      <td>1</td>\n",
       "      <td>94.5</td>\n",
       "      <td>171.2</td>\n",
       "      <td>65.5</td>\n",
       "      <td>52.4</td>\n",
       "      <td>2823</td>\n",
       "      <td>152</td>\n",
       "      <td>2.68</td>\n",
       "      <td>3.47</td>\n",
       "      <td>...</td>\n",
       "      <td>False</td>\n",
       "      <td>False</td>\n",
       "      <td>False</td>\n",
       "      <td>False</td>\n",
       "      <td>False</td>\n",
       "      <td>False</td>\n",
       "      <td>False</td>\n",
       "      <td>True</td>\n",
       "      <td>False</td>\n",
       "      <td>False</td>\n",
       "    </tr>\n",
       "    <tr>\n",
       "      <th>3</th>\n",
       "      <td>4</td>\n",
       "      <td>2</td>\n",
       "      <td>99.8</td>\n",
       "      <td>176.6</td>\n",
       "      <td>66.2</td>\n",
       "      <td>54.3</td>\n",
       "      <td>2337</td>\n",
       "      <td>109</td>\n",
       "      <td>3.19</td>\n",
       "      <td>3.40</td>\n",
       "      <td>...</td>\n",
       "      <td>False</td>\n",
       "      <td>False</td>\n",
       "      <td>False</td>\n",
       "      <td>False</td>\n",
       "      <td>False</td>\n",
       "      <td>False</td>\n",
       "      <td>False</td>\n",
       "      <td>True</td>\n",
       "      <td>False</td>\n",
       "      <td>False</td>\n",
       "    </tr>\n",
       "    <tr>\n",
       "      <th>4</th>\n",
       "      <td>5</td>\n",
       "      <td>2</td>\n",
       "      <td>99.4</td>\n",
       "      <td>176.6</td>\n",
       "      <td>66.4</td>\n",
       "      <td>54.3</td>\n",
       "      <td>2824</td>\n",
       "      <td>136</td>\n",
       "      <td>3.19</td>\n",
       "      <td>3.40</td>\n",
       "      <td>...</td>\n",
       "      <td>False</td>\n",
       "      <td>False</td>\n",
       "      <td>False</td>\n",
       "      <td>False</td>\n",
       "      <td>False</td>\n",
       "      <td>False</td>\n",
       "      <td>False</td>\n",
       "      <td>True</td>\n",
       "      <td>False</td>\n",
       "      <td>False</td>\n",
       "    </tr>\n",
       "  </tbody>\n",
       "</table>\n",
       "<p>5 rows × 191 columns</p>\n",
       "</div>"
      ],
      "text/plain": [
       "   car_ID  symboling  wheelbase  carlength  carwidth  carheight  curbweight  \\\n",
       "0       1          3       88.6      168.8      64.1       48.8        2548   \n",
       "1       2          3       88.6      168.8      64.1       48.8        2548   \n",
       "2       3          1       94.5      171.2      65.5       52.4        2823   \n",
       "3       4          2       99.8      176.6      66.2       54.3        2337   \n",
       "4       5          2       99.4      176.6      66.4       54.3        2824   \n",
       "\n",
       "   enginesize  boreratio  stroke  ...  cylindernumber_three  \\\n",
       "0         130       3.47    2.68  ...                 False   \n",
       "1         130       3.47    2.68  ...                 False   \n",
       "2         152       2.68    3.47  ...                 False   \n",
       "3         109       3.19    3.40  ...                 False   \n",
       "4         136       3.19    3.40  ...                 False   \n",
       "\n",
       "   cylindernumber_twelve  cylindernumber_two  fuelsystem_2bbl  \\\n",
       "0                  False               False            False   \n",
       "1                  False               False            False   \n",
       "2                  False               False            False   \n",
       "3                  False               False            False   \n",
       "4                  False               False            False   \n",
       "\n",
       "   fuelsystem_4bbl  fuelsystem_idi  fuelsystem_mfi  fuelsystem_mpfi  \\\n",
       "0            False           False           False             True   \n",
       "1            False           False           False             True   \n",
       "2            False           False           False             True   \n",
       "3            False           False           False             True   \n",
       "4            False           False           False             True   \n",
       "\n",
       "   fuelsystem_spdi  fuelsystem_spfi  \n",
       "0            False            False  \n",
       "1            False            False  \n",
       "2            False            False  \n",
       "3            False            False  \n",
       "4            False            False  \n",
       "\n",
       "[5 rows x 191 columns]"
      ]
     },
     "execution_count": 5,
     "metadata": {},
     "output_type": "execute_result"
    }
   ],
   "source": [
    "# Check datatypes to find categorical columns\n",
    "df.dtypes\n",
    "\n",
    "# Convert categorical columns to dummy variables\n",
    "df_encoded = pd.get_dummies(df, drop_first=True)\n",
    "df_encoded.head()\n"
   ]
  },
  {
   "cell_type": "markdown",
   "id": "52af1279-f853-4303-b7e8-c9b8ca208537",
   "metadata": {},
   "source": [
    "### Outlier Detection and Handling (IQR method)"
   ]
  },
  {
   "cell_type": "code",
   "execution_count": 6,
   "id": "40ae73f9-8a1c-4d20-bd3f-d2a55e19ac12",
   "metadata": {},
   "outputs": [],
   "source": [
    "# Detect and handle outliers using IQR\n",
    "numeric_cols = df_encoded.select_dtypes(include=[np.number]).columns\n",
    "\n",
    "for col in numeric_cols:\n",
    "    Q1 = df_encoded[col].quantile(0.25)\n",
    "    Q3 = df_encoded[col].quantile(0.75)\n",
    "    IQR = Q3 - Q1\n",
    "    lower = Q1 - 1.5 * IQR\n",
    "    upper = Q3 + 1.5 * IQR\n",
    "    df_encoded[col] = np.where(df_encoded[col] < lower, lower,\n",
    "                               np.where(df_encoded[col] > upper, upper, df_encoded[col]))\n"
   ]
  },
  {
   "cell_type": "markdown",
   "id": "f354094e-525f-4bd9-99e0-053caa59cc64",
   "metadata": {},
   "source": [
    "### Feature Scaling (Standardization)"
   ]
  },
  {
   "cell_type": "code",
   "execution_count": 7,
   "id": "cb657aba-251e-4297-9ff1-80a222a0694c",
   "metadata": {},
   "outputs": [],
   "source": [
    "from sklearn.preprocessing import StandardScaler\n",
    "\n",
    "# Separate features and target\n",
    "X = df_encoded.drop('price', axis=1)\n",
    "y = df_encoded['price']\n",
    "\n",
    "# Scale features\n",
    "scaler = StandardScaler()\n",
    "X_scaled = scaler.fit_transform(X)\n"
   ]
  },
  {
   "cell_type": "markdown",
   "id": "562fb762-241e-4626-8f9c-483d52059af9",
   "metadata": {},
   "source": [
    "### Train/Test Split"
   ]
  },
  {
   "cell_type": "markdown",
   "id": "23860a5e-292b-4217-b35c-d9e7157d0575",
   "metadata": {},
   "source": [
    "### 🔀 Train-Test Split\n",
    "The data is split into training (80%) and testing (20%) sets. This allows us to evaluate the model performance on unseen data.\n"
   ]
  },
  {
   "cell_type": "code",
   "execution_count": 8,
   "id": "e45d63eb-0aaa-475d-bcd0-af2b43c7fa84",
   "metadata": {},
   "outputs": [
    {
     "data": {
      "text/plain": [
       "((164, 190), (41, 190), (164,), (41,))"
      ]
     },
     "execution_count": 8,
     "metadata": {},
     "output_type": "execute_result"
    }
   ],
   "source": [
    "from sklearn.model_selection import train_test_split\n",
    "\n",
    "# Train-test split\n",
    "X_train, X_test, y_train, y_test = train_test_split(X_scaled, y, test_size=0.2, random_state=42)\n",
    "\n",
    "# Check the shapes of the splits\n",
    "X_train.shape, X_test.shape, y_train.shape, y_test.shape\n"
   ]
  },
  {
   "cell_type": "markdown",
   "id": "8ccc67e7-9ae1-4f6d-baf4-2c226aecc4db",
   "metadata": {},
   "source": [
    "### Model Implementation"
   ]
  },
  {
   "cell_type": "markdown",
   "id": "77f71aaf-e2fa-4b4d-bf85-b7ecef8ece27",
   "metadata": {},
   "source": [
    "## Code for Each Model:\n",
    "### Linear Regression:"
   ]
  },
  {
   "cell_type": "code",
   "execution_count": 9,
   "id": "c28b9e69-bf19-48de-8d48-a15ece985073",
   "metadata": {},
   "outputs": [
    {
     "data": {
      "text/plain": [
       "(-2.1572741359727714, 167214855.98169944, 7964.670670857683)"
      ]
     },
     "execution_count": 9,
     "metadata": {},
     "output_type": "execute_result"
    }
   ],
   "source": [
    "from sklearn.linear_model import LinearRegression\n",
    "\n",
    "# Initialize and train Linear Regression model\n",
    "lr_model = LinearRegression()\n",
    "lr_model.fit(X_train, y_train)\n",
    "\n",
    "# Predict and evaluate\n",
    "lr_pred = lr_model.predict(X_test)\n",
    "\n",
    "# R2, MSE, MAE for evaluation\n",
    "lr_r2 = r2_score(y_test, lr_pred)\n",
    "lr_mse = mean_squared_error(y_test, lr_pred)\n",
    "lr_mae = mean_absolute_error(y_test, lr_pred)\n",
    "\n",
    "lr_r2, lr_mse, lr_mae\n"
   ]
  },
  {
   "cell_type": "markdown",
   "id": "94050c6a-b7d0-4d2c-b449-e6cf0a13356f",
   "metadata": {},
   "source": [
    "### Decision Tree Regressor:"
   ]
  },
  {
   "cell_type": "code",
   "execution_count": 10,
   "id": "62f47ca3-bf15-47a0-b4ac-0f638b74650c",
   "metadata": {},
   "outputs": [
    {
     "data": {
      "text/plain": [
       "(0.9476956540849895, 2770131.2248265613, 1127.8455365853658)"
      ]
     },
     "execution_count": 10,
     "metadata": {},
     "output_type": "execute_result"
    }
   ],
   "source": [
    "from sklearn.tree import DecisionTreeRegressor\n",
    "\n",
    "# Initialize and train Decision Tree Regressor\n",
    "dt_model = DecisionTreeRegressor(random_state=42)\n",
    "dt_model.fit(X_train, y_train)\n",
    "\n",
    "# Predict and evaluate\n",
    "dt_pred = dt_model.predict(X_test)\n",
    "\n",
    "# R2, MSE, MAE for evaluation\n",
    "dt_r2 = r2_score(y_test, dt_pred)\n",
    "dt_mse = mean_squared_error(y_test, dt_pred)\n",
    "dt_mae = mean_absolute_error(y_test, dt_pred)\n",
    "\n",
    "dt_r2, dt_mse, dt_mae\n"
   ]
  },
  {
   "cell_type": "markdown",
   "id": "02dec559-5b31-4b33-9fbc-051848f424d3",
   "metadata": {},
   "source": [
    "### Random Forest Regressor:"
   ]
  },
  {
   "cell_type": "code",
   "execution_count": 11,
   "id": "3c4f5f9c-1385-4da6-a40c-db0e49a05d51",
   "metadata": {},
   "outputs": [
    {
     "data": {
      "text/plain": [
       "(0.9530891872284414, 2484480.112831195, 1130.341292682927)"
      ]
     },
     "execution_count": 11,
     "metadata": {},
     "output_type": "execute_result"
    }
   ],
   "source": [
    "from sklearn.ensemble import RandomForestRegressor\n",
    "\n",
    "# Initialize and train Random Forest Regressor\n",
    "rf_model = RandomForestRegressor(random_state=42)\n",
    "rf_model.fit(X_train, y_train)\n",
    "\n",
    "# Predict and evaluate\n",
    "rf_pred = rf_model.predict(X_test)\n",
    "\n",
    "# R2, MSE, MAE for evaluation\n",
    "rf_r2 = r2_score(y_test, rf_pred)\n",
    "rf_mse = mean_squared_error(y_test, rf_pred)\n",
    "rf_mae = mean_absolute_error(y_test, rf_pred)\n",
    "\n",
    "rf_r2, rf_mse, rf_mae\n"
   ]
  },
  {
   "cell_type": "markdown",
   "id": "0a067258-c0aa-4871-b643-7651b8d29fb3",
   "metadata": {},
   "source": [
    "### Gradient Boosting Regressor:"
   ]
  },
  {
   "cell_type": "code",
   "execution_count": 12,
   "id": "9cca456a-826a-4d8b-9089-9255886d9e38",
   "metadata": {},
   "outputs": [
    {
     "data": {
      "text/plain": [
       "(0.9561885917143743, 2320330.1364831217, 1146.526775856925)"
      ]
     },
     "execution_count": 12,
     "metadata": {},
     "output_type": "execute_result"
    }
   ],
   "source": [
    "from sklearn.ensemble import GradientBoostingRegressor\n",
    "\n",
    "# Initialize and train Gradient Boosting Regressor\n",
    "gb_model = GradientBoostingRegressor(random_state=42)\n",
    "gb_model.fit(X_train, y_train)\n",
    "\n",
    "# Predict and evaluate\n",
    "gb_pred = gb_model.predict(X_test)\n",
    "\n",
    "# R2, MSE, MAE for evaluation\n",
    "gb_r2 = r2_score(y_test, gb_pred)\n",
    "gb_mse = mean_squared_error(y_test, gb_pred)\n",
    "gb_mae = mean_absolute_error(y_test, gb_pred)\n",
    "\n",
    "gb_r2, gb_mse, gb_mae\n"
   ]
  },
  {
   "cell_type": "markdown",
   "id": "fc13392b-51d6-4763-9c17-fe7315882d0e",
   "metadata": {},
   "source": [
    "### Support Vector Regressor (SVR):"
   ]
  },
  {
   "cell_type": "code",
   "execution_count": 13,
   "id": "01b5227e-a75a-4a2e-bb73-bfe6366d5072",
   "metadata": {},
   "outputs": [
    {
     "data": {
      "text/plain": [
       "(-0.09516397046096237, 58001832.50180569, 5114.077246798492)"
      ]
     },
     "execution_count": 13,
     "metadata": {},
     "output_type": "execute_result"
    }
   ],
   "source": [
    "from sklearn.svm import SVR\n",
    "\n",
    "# Initialize and train Support Vector Regressor\n",
    "svr_model = SVR()\n",
    "svr_model.fit(X_train, y_train)\n",
    "\n",
    "# Predict and evaluate\n",
    "svr_pred = svr_model.predict(X_test)\n",
    "\n",
    "# R2, MSE, MAE for evaluation\n",
    "svr_r2 = r2_score(y_test, svr_pred)\n",
    "svr_mse = mean_squared_error(y_test, svr_pred)\n",
    "svr_mae = mean_absolute_error(y_test, svr_pred)\n",
    "\n",
    "svr_r2, svr_mse, svr_mae\n"
   ]
  },
  {
   "cell_type": "markdown",
   "id": "72236af1-8d4e-4d3f-9f93-65a756c86c1f",
   "metadata": {},
   "source": [
    "## Model Evaluation"
   ]
  },
  {
   "cell_type": "code",
   "execution_count": 14,
   "id": "1093663e-d41a-4a22-88b2-6d2d80787c67",
   "metadata": {},
   "outputs": [
    {
     "data": {
      "text/html": [
       "<div>\n",
       "<style scoped>\n",
       "    .dataframe tbody tr th:only-of-type {\n",
       "        vertical-align: middle;\n",
       "    }\n",
       "\n",
       "    .dataframe tbody tr th {\n",
       "        vertical-align: top;\n",
       "    }\n",
       "\n",
       "    .dataframe thead th {\n",
       "        text-align: right;\n",
       "    }\n",
       "</style>\n",
       "<table border=\"1\" class=\"dataframe\">\n",
       "  <thead>\n",
       "    <tr style=\"text-align: right;\">\n",
       "      <th></th>\n",
       "      <th>R2</th>\n",
       "      <th>MSE</th>\n",
       "      <th>MAE</th>\n",
       "    </tr>\n",
       "  </thead>\n",
       "  <tbody>\n",
       "    <tr>\n",
       "      <th>Gradient Boosting</th>\n",
       "      <td>0.956189</td>\n",
       "      <td>2.320330e+06</td>\n",
       "      <td>1146.526776</td>\n",
       "    </tr>\n",
       "    <tr>\n",
       "      <th>Random Forest</th>\n",
       "      <td>0.953089</td>\n",
       "      <td>2.484480e+06</td>\n",
       "      <td>1130.341293</td>\n",
       "    </tr>\n",
       "    <tr>\n",
       "      <th>Decision Tree</th>\n",
       "      <td>0.947696</td>\n",
       "      <td>2.770131e+06</td>\n",
       "      <td>1127.845537</td>\n",
       "    </tr>\n",
       "    <tr>\n",
       "      <th>SVR</th>\n",
       "      <td>-0.095164</td>\n",
       "      <td>5.800183e+07</td>\n",
       "      <td>5114.077247</td>\n",
       "    </tr>\n",
       "    <tr>\n",
       "      <th>Linear Regression</th>\n",
       "      <td>-2.157274</td>\n",
       "      <td>1.672149e+08</td>\n",
       "      <td>7964.670671</td>\n",
       "    </tr>\n",
       "  </tbody>\n",
       "</table>\n",
       "</div>"
      ],
      "text/plain": [
       "                         R2           MSE          MAE\n",
       "Gradient Boosting  0.956189  2.320330e+06  1146.526776\n",
       "Random Forest      0.953089  2.484480e+06  1130.341293\n",
       "Decision Tree      0.947696  2.770131e+06  1127.845537\n",
       "SVR               -0.095164  5.800183e+07  5114.077247\n",
       "Linear Regression -2.157274  1.672149e+08  7964.670671"
      ]
     },
     "execution_count": 14,
     "metadata": {},
     "output_type": "execute_result"
    }
   ],
   "source": [
    "# Create a dictionary to store performance metrics for all models\n",
    "model_scores = {\n",
    "    'Linear Regression': [lr_r2, lr_mse, lr_mae],\n",
    "    'Decision Tree': [dt_r2, dt_mse, dt_mae],\n",
    "    'Random Forest': [rf_r2, rf_mse, rf_mae],\n",
    "    'Gradient Boosting': [gb_r2, gb_mse, gb_mae],\n",
    "    'SVR': [svr_r2, svr_mse, svr_mae]\n",
    "}\n",
    "\n",
    "# Convert to DataFrame for easy comparison\n",
    "results_df = pd.DataFrame(model_scores, index=['R2', 'MSE', 'MAE'])\n",
    "results_df.T.sort_values(\"R2\", ascending=False)\n"
   ]
  },
  {
   "cell_type": "markdown",
   "id": "a5c2450f-6f67-4f16-a2c4-131744bde1ed",
   "metadata": {},
   "source": [
    "### 📊 Model Performance Summary\n",
    "\n",
    "| Model               | R² Score | MSE           | MAE           |\n",
    "|--------------------|----------|---------------|---------------|\n",
    "| Gradient Boosting  | 0.956    | 2.32e+06      | 1146.53       |\n",
    "| Random Forest      | 0.953    | 2.48e+06      | 1130.34       |\n",
    "| Decision Tree      | 0.948    | 2.77e+06      | 1127.85       |\n",
    "| SVR                | -0.095   | 5.80e+07      | 5114.08       |\n",
    "| Linear Regression  | -2.157   | 1.67e+08      | 7964.67       |\n",
    "\n",
    "### 🏆 Best Model: Gradient Boosting Regressor\n",
    "\n",
    "- **R² Score**: Highest among all models (0.956) – meaning it explains 95.6% of the variability in car prices.\n",
    "- **MSE & MAE**: Slightly higher MAE than Random Forest and Decision Tree, but **lowest MSE**, making it a more stable choice.\n",
    "- **Conclusion**: Gradient Boosting is selected as the best model due to its high R² and balanced error metrics, offering strong generalization and robustness.\n"
   ]
  },
  {
   "cell_type": "markdown",
   "id": "f3373323-e4ab-43f5-a9f2-5fee55d7c362",
   "metadata": {},
   "source": [
    "### Feature Importance Analysis (using Gradient Boosting)"
   ]
  },
  {
   "cell_type": "code",
   "execution_count": 16,
   "id": "d3173aee-1429-4553-a526-d815921333eb",
   "metadata": {},
   "outputs": [
    {
     "data": {
      "image/png": "[encoded data removed]",
      "text/plain": [
       "<Figure size 1000x600 with 1 Axes>"
      ]
     },
     "metadata": {},
     "output_type": "display_data"
    }
   ],
   "source": [
    "# Get feature importance from Gradient Boosting Regressor\n",
    "importances = gb_model.feature_importances_\n",
    "features = X.columns\n",
    "\n",
    "# Create DataFrame\n",
    "feat_imp = pd.DataFrame({'Feature': features, 'Importance': importances})\n",
    "feat_imp = feat_imp.sort_values(by='Importance', ascending=False)\n",
    "\n",
    "# Plot top 15 important features\n",
    "plt.figure(figsize=(10,6))\n",
    "sns.barplot(x='Importance', y='Feature', data=feat_imp.head(15), hue='Feature', palette='viridis', legend=False)\n",
    "plt.title('Top 15 Important Features Affecting Car Price')\n",
    "plt.tight_layout()\n",
    "plt.show()\n",
    "\n"
   ]
  },
  {
   "cell_type": "markdown",
   "id": "b994cf17-0418-4d1f-9f11-5e4f876f4ef6",
   "metadata": {},
   "source": [
    "###  Hyperparameter Tuning (Grid Search on Gradient Boosting)"
   ]
  },
  {
   "cell_type": "code",
   "execution_count": 17,
   "id": "ac82e169-9e6e-4002-9f7a-02d902e4e7d6",
   "metadata": {},
   "outputs": [
    {
     "data": {
      "text/plain": [
       "({'learning_rate': 0.05, 'max_depth': 3, 'n_estimators': 200},\n",
       " np.float64(0.8920050952329687))"
      ]
     },
     "execution_count": 17,
     "metadata": {},
     "output_type": "execute_result"
    }
   ],
   "source": [
    "from sklearn.model_selection import GridSearchCV\n",
    "\n",
    "# Define parameter grid\n",
    "param_grid = {\n",
    "    'n_estimators': [100, 200],\n",
    "    'learning_rate': [0.05, 0.1],\n",
    "    'max_depth': [3, 5]\n",
    "}\n",
    "\n",
    "# Grid Search with 5-fold cross-validation\n",
    "grid_search = GridSearchCV(GradientBoostingRegressor(random_state=42),\n",
    "                           param_grid,\n",
    "                           cv=5,\n",
    "                           scoring='r2',\n",
    "                           n_jobs=-1)\n",
    "\n",
    "# Fit the model\n",
    "grid_search.fit(X_train, y_train)\n",
    "\n",
    "# Best params and score\n",
    "grid_search.best_params_, grid_search.best_score_\n"
   ]
  },
  {
   "cell_type": "code",
   "execution_count": 18,
   "id": "6323859c-b4c6-413c-a75b-8aeca10cf9aa",
   "metadata": {},
   "outputs": [
    {
     "data": {
      "text/plain": [
       "(0.9546657442374178, 2400982.8484665626, 1160.3336414122416)"
      ]
     },
     "execution_count": 18,
     "metadata": {},
     "output_type": "execute_result"
    }
   ],
   "source": [
    "# Evaluate tuned model on test data\n",
    "best_gb_model = grid_search.best_estimator_\n",
    "tuned_pred = best_gb_model.predict(X_test)\n",
    "\n",
    "# Evaluation metrics\n",
    "r2_tuned = r2_score(y_test, tuned_pred)\n",
    "mse_tuned = mean_squared_error(y_test, tuned_pred)\n",
    "mae_tuned = mean_absolute_error(y_test, tuned_pred)\n",
    "\n",
    "r2_tuned, mse_tuned, mae_tuned\n"
   ]
  },
  {
   "cell_type": "markdown",
   "id": "a035b120-654b-49da-9fd8-ca9c559f7051",
   "metadata": {},
   "source": [
    "### ✅ Final Tuned Model Evaluation (on Test Set)\n",
    "\n",
    "After hyperparameter tuning, the final Gradient Boosting Regressor achieved the following performance:\n",
    "\n",
    "- **R² Score**: 0.955\n",
    "- **Mean Squared Error (MSE)**: 2,400,982.85\n",
    "- **Mean Absolute Error (MAE)**: 1160.33\n",
    "\n",
    "Compared to the original model, the tuned model offers **better generalization** and maintains high accuracy. Gradient Boosting remains the **best performing model** overall.\n"
   ]
  },
  {
   "cell_type": "code",
   "execution_count": null,
   "id": "13cb4113-caed-4d01-bc0c-ede3377e11e6",
   "metadata": {},
   "outputs": [],
   "source": []
  }
 ],
 "metadata": {
  "kernelspec": {
   "display_name": "Python 3 (ipykernel)",
   "language": "python",
   "name": "python3"
  },
  "language_info": {
   "codemirror_mode": {
    "name": "ipython",
    "version": 3
   },
   "file_extension": ".py",
   "mimetype": "text/x-python",
   "name": "python",
   "nbconvert_exporter": "python",
   "pygments_lexer": "ipython3",
   "version": "3.13.2"
  }
 },
 "nbformat": 4,
 "nbformat_minor": 5
}
